{
 "cells": [
  {
   "cell_type": "code",
   "execution_count": 1,
   "id": "305f1435",
   "metadata": {},
   "outputs": [],
   "source": [
    "import numpy as np\n",
    "import pandas as pd\n",
    "import re\n",
    "import string"
   ]
  },
  {
   "cell_type": "code",
   "execution_count": 2,
   "id": "16269b02",
   "metadata": {},
   "outputs": [],
   "source": [
    "df = pd.read_csv('IMDB Dataset.csv')"
   ]
  },
  {
   "cell_type": "code",
   "execution_count": 3,
   "id": "078406d3",
   "metadata": {},
   "outputs": [
    {
     "data": {
      "text/html": [
       "<div>\n",
       "<style scoped>\n",
       "    .dataframe tbody tr th:only-of-type {\n",
       "        vertical-align: middle;\n",
       "    }\n",
       "\n",
       "    .dataframe tbody tr th {\n",
       "        vertical-align: top;\n",
       "    }\n",
       "\n",
       "    .dataframe thead th {\n",
       "        text-align: right;\n",
       "    }\n",
       "</style>\n",
       "<table border=\"1\" class=\"dataframe\">\n",
       "  <thead>\n",
       "    <tr style=\"text-align: right;\">\n",
       "      <th></th>\n",
       "      <th>review</th>\n",
       "      <th>sentiment</th>\n",
       "    </tr>\n",
       "  </thead>\n",
       "  <tbody>\n",
       "    <tr>\n",
       "      <th>43094</th>\n",
       "      <td>\"Throw Momma From the Train\" is a simple dark ...</td>\n",
       "      <td>positive</td>\n",
       "    </tr>\n",
       "    <tr>\n",
       "      <th>6113</th>\n",
       "      <td>The production quality, cast, premise, authent...</td>\n",
       "      <td>positive</td>\n",
       "    </tr>\n",
       "    <tr>\n",
       "      <th>22134</th>\n",
       "      <td>This is the kind of movie Hollywood needs to m...</td>\n",
       "      <td>positive</td>\n",
       "    </tr>\n",
       "    <tr>\n",
       "      <th>24392</th>\n",
       "      <td>Watching this again after a gap of many years ...</td>\n",
       "      <td>positive</td>\n",
       "    </tr>\n",
       "    <tr>\n",
       "      <th>31656</th>\n",
       "      <td>As we all know Hollywood enjoys changing histo...</td>\n",
       "      <td>negative</td>\n",
       "    </tr>\n",
       "  </tbody>\n",
       "</table>\n",
       "</div>"
      ],
      "text/plain": [
       "                                                  review sentiment\n",
       "43094  \"Throw Momma From the Train\" is a simple dark ...  positive\n",
       "6113   The production quality, cast, premise, authent...  positive\n",
       "22134  This is the kind of movie Hollywood needs to m...  positive\n",
       "24392  Watching this again after a gap of many years ...  positive\n",
       "31656  As we all know Hollywood enjoys changing histo...  negative"
      ]
     },
     "execution_count": 3,
     "metadata": {},
     "output_type": "execute_result"
    }
   ],
   "source": [
    "df.sample(5)"
   ]
  },
  {
   "cell_type": "code",
   "execution_count": 4,
   "id": "b16121a1",
   "metadata": {},
   "outputs": [
    {
     "data": {
      "text/plain": [
       "(50000, 2)"
      ]
     },
     "execution_count": 4,
     "metadata": {},
     "output_type": "execute_result"
    }
   ],
   "source": [
    "df.shape"
   ]
  },
  {
   "cell_type": "markdown",
   "id": "0269d8ff",
   "metadata": {},
   "source": [
    "# Convert Text Lower Case"
   ]
  },
  {
   "cell_type": "code",
   "execution_count": 5,
   "id": "673ef4e5",
   "metadata": {},
   "outputs": [
    {
     "data": {
      "text/plain": [
       "'Phil the Alien is one of those quirky films where the humour is based around the oddness of everything rather than actual punchlines.<br /><br />At first it was very odd and pretty funny but as the movie progressed I didn\\'t find the jokes or oddness funny anymore.<br /><br />Its a low budget film (thats never a problem in itself), there were some pretty interesting characters, but eventually I just lost interest.<br /><br />I imagine this film would appeal to a stoner who is currently partaking.<br /><br />For something similar but better try \"Brother from another planet\"'"
      ]
     },
     "execution_count": 5,
     "metadata": {},
     "output_type": "execute_result"
    }
   ],
   "source": [
    "df['review'][10]"
   ]
  },
  {
   "cell_type": "code",
   "execution_count": 6,
   "id": "feddecde",
   "metadata": {},
   "outputs": [
    {
     "data": {
      "text/plain": [
       "'phil the alien is one of those quirky films where the humour is based around the oddness of everything rather than actual punchlines.<br /><br />at first it was very odd and pretty funny but as the movie progressed i didn\\'t find the jokes or oddness funny anymore.<br /><br />its a low budget film (thats never a problem in itself), there were some pretty interesting characters, but eventually i just lost interest.<br /><br />i imagine this film would appeal to a stoner who is currently partaking.<br /><br />for something similar but better try \"brother from another planet\"'"
      ]
     },
     "execution_count": 6,
     "metadata": {},
     "output_type": "execute_result"
    }
   ],
   "source": [
    "df['review'][10].lower()"
   ]
  },
  {
   "cell_type": "code",
   "execution_count": 7,
   "id": "cadfce54",
   "metadata": {},
   "outputs": [
    {
     "data": {
      "text/plain": [
       "0        one of the other reviewers has mentioned that ...\n",
       "1        a wonderful little production. <br /><br />the...\n",
       "2        i thought this was a wonderful way to spend ti...\n",
       "3        basically there's a family where a little boy ...\n",
       "4        petter mattei's \"love in the time of money\" is...\n",
       "                               ...                        \n",
       "49995    i thought this movie did a down right good job...\n",
       "49996    bad plot, bad dialogue, bad acting, idiotic di...\n",
       "49997    i am a catholic taught in parochial elementary...\n",
       "49998    i'm going to have to disagree with the previou...\n",
       "49999    no one expects the star trek movies to be high...\n",
       "Name: review, Length: 50000, dtype: object"
      ]
     },
     "execution_count": 7,
     "metadata": {},
     "output_type": "execute_result"
    }
   ],
   "source": [
    "df['review'].str.lower()"
   ]
  },
  {
   "cell_type": "code",
   "execution_count": 8,
   "id": "53702a8e",
   "metadata": {},
   "outputs": [],
   "source": [
    "def convert_lower_case(text):\n",
    "    text = text.lower()\n",
    "    return text"
   ]
  },
  {
   "cell_type": "code",
   "execution_count": 9,
   "id": "d243bf22",
   "metadata": {},
   "outputs": [],
   "source": [
    "df['review'] = df['review'].apply(convert_lower_case)"
   ]
  },
  {
   "cell_type": "code",
   "execution_count": 10,
   "id": "bce6fc33",
   "metadata": {},
   "outputs": [
    {
     "data": {
      "text/html": [
       "<div>\n",
       "<style scoped>\n",
       "    .dataframe tbody tr th:only-of-type {\n",
       "        vertical-align: middle;\n",
       "    }\n",
       "\n",
       "    .dataframe tbody tr th {\n",
       "        vertical-align: top;\n",
       "    }\n",
       "\n",
       "    .dataframe thead th {\n",
       "        text-align: right;\n",
       "    }\n",
       "</style>\n",
       "<table border=\"1\" class=\"dataframe\">\n",
       "  <thead>\n",
       "    <tr style=\"text-align: right;\">\n",
       "      <th></th>\n",
       "      <th>review</th>\n",
       "      <th>sentiment</th>\n",
       "    </tr>\n",
       "  </thead>\n",
       "  <tbody>\n",
       "    <tr>\n",
       "      <th>0</th>\n",
       "      <td>one of the other reviewers has mentioned that ...</td>\n",
       "      <td>positive</td>\n",
       "    </tr>\n",
       "    <tr>\n",
       "      <th>1</th>\n",
       "      <td>a wonderful little production. &lt;br /&gt;&lt;br /&gt;the...</td>\n",
       "      <td>positive</td>\n",
       "    </tr>\n",
       "    <tr>\n",
       "      <th>2</th>\n",
       "      <td>i thought this was a wonderful way to spend ti...</td>\n",
       "      <td>positive</td>\n",
       "    </tr>\n",
       "    <tr>\n",
       "      <th>3</th>\n",
       "      <td>basically there's a family where a little boy ...</td>\n",
       "      <td>negative</td>\n",
       "    </tr>\n",
       "    <tr>\n",
       "      <th>4</th>\n",
       "      <td>petter mattei's \"love in the time of money\" is...</td>\n",
       "      <td>positive</td>\n",
       "    </tr>\n",
       "    <tr>\n",
       "      <th>...</th>\n",
       "      <td>...</td>\n",
       "      <td>...</td>\n",
       "    </tr>\n",
       "    <tr>\n",
       "      <th>49995</th>\n",
       "      <td>i thought this movie did a down right good job...</td>\n",
       "      <td>positive</td>\n",
       "    </tr>\n",
       "    <tr>\n",
       "      <th>49996</th>\n",
       "      <td>bad plot, bad dialogue, bad acting, idiotic di...</td>\n",
       "      <td>negative</td>\n",
       "    </tr>\n",
       "    <tr>\n",
       "      <th>49997</th>\n",
       "      <td>i am a catholic taught in parochial elementary...</td>\n",
       "      <td>negative</td>\n",
       "    </tr>\n",
       "    <tr>\n",
       "      <th>49998</th>\n",
       "      <td>i'm going to have to disagree with the previou...</td>\n",
       "      <td>negative</td>\n",
       "    </tr>\n",
       "    <tr>\n",
       "      <th>49999</th>\n",
       "      <td>no one expects the star trek movies to be high...</td>\n",
       "      <td>negative</td>\n",
       "    </tr>\n",
       "  </tbody>\n",
       "</table>\n",
       "<p>50000 rows × 2 columns</p>\n",
       "</div>"
      ],
      "text/plain": [
       "                                                  review sentiment\n",
       "0      one of the other reviewers has mentioned that ...  positive\n",
       "1      a wonderful little production. <br /><br />the...  positive\n",
       "2      i thought this was a wonderful way to spend ti...  positive\n",
       "3      basically there's a family where a little boy ...  negative\n",
       "4      petter mattei's \"love in the time of money\" is...  positive\n",
       "...                                                  ...       ...\n",
       "49995  i thought this movie did a down right good job...  positive\n",
       "49996  bad plot, bad dialogue, bad acting, idiotic di...  negative\n",
       "49997  i am a catholic taught in parochial elementary...  negative\n",
       "49998  i'm going to have to disagree with the previou...  negative\n",
       "49999  no one expects the star trek movies to be high...  negative\n",
       "\n",
       "[50000 rows x 2 columns]"
      ]
     },
     "execution_count": 10,
     "metadata": {},
     "output_type": "execute_result"
    }
   ],
   "source": [
    "df"
   ]
  },
  {
   "cell_type": "markdown",
   "id": "2f651d8a",
   "metadata": {},
   "source": [
    "# Remove Html Tag"
   ]
  },
  {
   "cell_type": "code",
   "execution_count": 11,
   "id": "653e4a4d",
   "metadata": {},
   "outputs": [],
   "source": [
    "def remove_html_tag(text):\n",
    "    \n",
    "    pattren = re.compile(r\"<.*?>\")\n",
    "    return pattren.sub(r' ', text)"
   ]
  },
  {
   "cell_type": "code",
   "execution_count": 12,
   "id": "24894e86",
   "metadata": {},
   "outputs": [
    {
     "data": {
      "text/plain": [
       "'phil the alien is one of those quirky films where the humour is based around the oddness of everything rather than actual punchlines.<br /><br />at first it was very odd and pretty funny but as the movie progressed i didn\\'t find the jokes or oddness funny anymore.<br /><br />its a low budget film (thats never a problem in itself), there were some pretty interesting characters, but eventually i just lost interest.<br /><br />i imagine this film would appeal to a stoner who is currently partaking.<br /><br />for something similar but better try \"brother from another planet\"'"
      ]
     },
     "execution_count": 12,
     "metadata": {},
     "output_type": "execute_result"
    }
   ],
   "source": [
    "df['review'][10]"
   ]
  },
  {
   "cell_type": "code",
   "execution_count": 13,
   "id": "740af3f2",
   "metadata": {},
   "outputs": [],
   "source": [
    "df['review'] = df['review'].apply(remove_html_tag)"
   ]
  },
  {
   "cell_type": "code",
   "execution_count": 14,
   "id": "b6bca82c",
   "metadata": {},
   "outputs": [
    {
     "data": {
      "text/plain": [
       "'phil the alien is one of those quirky films where the humour is based around the oddness of everything rather than actual punchlines.  at first it was very odd and pretty funny but as the movie progressed i didn\\'t find the jokes or oddness funny anymore.  its a low budget film (thats never a problem in itself), there were some pretty interesting characters, but eventually i just lost interest.  i imagine this film would appeal to a stoner who is currently partaking.  for something similar but better try \"brother from another planet\"'"
      ]
     },
     "execution_count": 14,
     "metadata": {},
     "output_type": "execute_result"
    }
   ],
   "source": [
    "df['review'][10]"
   ]
  },
  {
   "cell_type": "code",
   "execution_count": 15,
   "id": "d472cf8f",
   "metadata": {},
   "outputs": [],
   "source": [
    "def remove_html_tag2(text):\n",
    "    \n",
    "    pattren = r\"<.*?>\"\n",
    "    \n",
    "    text = re.sub(pattern=pattren, repl=\" \", string=text)\n",
    "    \n",
    "    return text"
   ]
  },
  {
   "cell_type": "code",
   "execution_count": 16,
   "id": "75f7102c",
   "metadata": {},
   "outputs": [],
   "source": [
    "df['review'] = df['review'].apply(remove_html_tag2)"
   ]
  },
  {
   "cell_type": "code",
   "execution_count": 17,
   "id": "1f035cc9",
   "metadata": {},
   "outputs": [
    {
     "data": {
      "text/plain": [
       "0        one of the other reviewers has mentioned that ...\n",
       "1        a wonderful little production.   the filming t...\n",
       "2        i thought this was a wonderful way to spend ti...\n",
       "3        basically there's a family where a little boy ...\n",
       "4        petter mattei's \"love in the time of money\" is...\n",
       "                               ...                        \n",
       "49995    i thought this movie did a down right good job...\n",
       "49996    bad plot, bad dialogue, bad acting, idiotic di...\n",
       "49997    i am a catholic taught in parochial elementary...\n",
       "49998    i'm going to have to disagree with the previou...\n",
       "49999    no one expects the star trek movies to be high...\n",
       "Name: review, Length: 50000, dtype: object"
      ]
     },
     "execution_count": 17,
     "metadata": {},
     "output_type": "execute_result"
    }
   ],
   "source": [
    "df['review']"
   ]
  },
  {
   "cell_type": "markdown",
   "id": "c29d8b0b",
   "metadata": {},
   "source": [
    "# Urls Remove"
   ]
  },
  {
   "cell_type": "code",
   "execution_count": 18,
   "id": "86783dcf",
   "metadata": {},
   "outputs": [],
   "source": [
    "def remove_urls(text):\n",
    "    \n",
    "    pattern = re.compile(r'https?://\\S+|www.\\S+')\n",
    "    \n",
    "    return pattern.sub(r\" \", text)"
   ]
  },
  {
   "cell_type": "code",
   "execution_count": 19,
   "id": "406889a8",
   "metadata": {},
   "outputs": [],
   "source": [
    "text=\"\"\"https://dataaspirant.com/nlp-text-preprocessing-techniques-implementation-python/#t-1600077497351 Hello NLP\n",
    "\"\"\"\n",
    "\n",
    "text2 = \"\"\"\n",
    "This is an example text for URLs like http://google.com & https://www.facebook.com/ etc.\n",
    "\n",
    "\"\"\"\n"
   ]
  },
  {
   "cell_type": "code",
   "execution_count": 20,
   "id": "cd7bea49",
   "metadata": {},
   "outputs": [],
   "source": [
    "result = remove_urls(text2)"
   ]
  },
  {
   "cell_type": "code",
   "execution_count": 21,
   "id": "af3e4588",
   "metadata": {},
   "outputs": [
    {
     "data": {
      "text/plain": [
       "'\\nThis is an example text for URLs like   &   etc.\\n\\n'"
      ]
     },
     "execution_count": 21,
     "metadata": {},
     "output_type": "execute_result"
    }
   ],
   "source": [
    "result"
   ]
  },
  {
   "cell_type": "code",
   "execution_count": 22,
   "id": "007cda29",
   "metadata": {},
   "outputs": [],
   "source": [
    "def remove_urls2(text):\n",
    "    pattern = r\"https?://\\S+|www.\\S+\"\n",
    "    \n",
    "    text = re.sub(pattern = pattern, repl=\" \", string=text)\n",
    "    \n",
    "    return text"
   ]
  },
  {
   "cell_type": "code",
   "execution_count": 23,
   "id": "11a1d97a",
   "metadata": {},
   "outputs": [],
   "source": [
    "text3 = \"\"\"\n",
    "https://www.cricbuzz.com/ Hello Cricbuzz\n",
    "\"\"\""
   ]
  },
  {
   "cell_type": "code",
   "execution_count": 24,
   "id": "04e1a979",
   "metadata": {},
   "outputs": [
    {
     "data": {
      "text/plain": [
       "'\\n  Hello Cricbuzz\\n'"
      ]
     },
     "execution_count": 24,
     "metadata": {},
     "output_type": "execute_result"
    }
   ],
   "source": [
    "remove_urls2(text3)"
   ]
  },
  {
   "cell_type": "markdown",
   "id": "6e86eee4",
   "metadata": {},
   "source": [
    "# punctuation remove"
   ]
  },
  {
   "cell_type": "code",
   "execution_count": 25,
   "id": "5e0b6dfd",
   "metadata": {},
   "outputs": [
    {
     "data": {
      "text/plain": [
       "1644952865.7512226"
      ]
     },
     "execution_count": 25,
     "metadata": {},
     "output_type": "execute_result"
    }
   ],
   "source": [
    "from string import punctuation\n",
    "import time\n",
    "\n",
    "time.time()"
   ]
  },
  {
   "cell_type": "code",
   "execution_count": 26,
   "id": "b335f0bd",
   "metadata": {},
   "outputs": [],
   "source": [
    "punc = punctuation"
   ]
  },
  {
   "cell_type": "code",
   "execution_count": 27,
   "id": "2d4c1aa5",
   "metadata": {},
   "outputs": [
    {
     "data": {
      "text/plain": [
       "'!\"#$%&\\'()*+,-./:;<=>?@[\\\\]^_`{|}~'"
      ]
     },
     "execution_count": 27,
     "metadata": {},
     "output_type": "execute_result"
    }
   ],
   "source": [
    "punc"
   ]
  },
  {
   "cell_type": "code",
   "execution_count": 28,
   "id": "6b59cce8",
   "metadata": {},
   "outputs": [],
   "source": [
    "def remove_punc(text):\n",
    "    \n",
    "    for char in punc:\n",
    "        text = text.replace(char, '')\n",
    "    \n",
    "    return text\n",
    "    "
   ]
  },
  {
   "cell_type": "code",
   "execution_count": 29,
   "id": "60753c08",
   "metadata": {},
   "outputs": [],
   "source": [
    "text4 = \"\"\"\n",
    "this jhj is an example text for punctuations like .?/ @ test*\n",
    "\"\"\""
   ]
  },
  {
   "cell_type": "code",
   "execution_count": 30,
   "id": "f0f8b422",
   "metadata": {},
   "outputs": [],
   "source": [
    "result = remove_punc(text4)"
   ]
  },
  {
   "cell_type": "code",
   "execution_count": 31,
   "id": "c0d724ae",
   "metadata": {},
   "outputs": [
    {
     "data": {
      "text/plain": [
       "'\\nthis jhj is an example text for punctuations like   test\\n'"
      ]
     },
     "execution_count": 31,
     "metadata": {},
     "output_type": "execute_result"
    }
   ],
   "source": [
    "result"
   ]
  },
  {
   "cell_type": "code",
   "execution_count": 32,
   "id": "3b70a9eb",
   "metadata": {},
   "outputs": [],
   "source": [
    "def remove_punc2(text):\n",
    "    return text.translate(str.maketrans('','', punc))"
   ]
  },
  {
   "cell_type": "code",
   "execution_count": 33,
   "id": "008ca58d",
   "metadata": {},
   "outputs": [
    {
     "data": {
      "text/plain": [
       "'\\nthis jhj is an example text for punctuations like   test\\n'"
      ]
     },
     "execution_count": 33,
     "metadata": {},
     "output_type": "execute_result"
    }
   ],
   "source": [
    "remove_punc2(text4)"
   ]
  },
  {
   "cell_type": "code",
   "execution_count": 34,
   "id": "0df1d498",
   "metadata": {},
   "outputs": [],
   "source": [
    "df2 =  pd.read_csv('train_tweet.csv')"
   ]
  },
  {
   "cell_type": "code",
   "execution_count": 35,
   "id": "bdf5b954",
   "metadata": {},
   "outputs": [
    {
     "data": {
      "text/html": [
       "<div>\n",
       "<style scoped>\n",
       "    .dataframe tbody tr th:only-of-type {\n",
       "        vertical-align: middle;\n",
       "    }\n",
       "\n",
       "    .dataframe tbody tr th {\n",
       "        vertical-align: top;\n",
       "    }\n",
       "\n",
       "    .dataframe thead th {\n",
       "        text-align: right;\n",
       "    }\n",
       "</style>\n",
       "<table border=\"1\" class=\"dataframe\">\n",
       "  <thead>\n",
       "    <tr style=\"text-align: right;\">\n",
       "      <th></th>\n",
       "      <th>id</th>\n",
       "      <th>label</th>\n",
       "      <th>tweet</th>\n",
       "    </tr>\n",
       "  </thead>\n",
       "  <tbody>\n",
       "    <tr>\n",
       "      <th>7952</th>\n",
       "      <td>7953</td>\n",
       "      <td>0</td>\n",
       "      <td>my arms hu #workout #comedy #funny   #vine #ga...</td>\n",
       "    </tr>\n",
       "    <tr>\n",
       "      <th>19750</th>\n",
       "      <td>19751</td>\n",
       "      <td>0</td>\n",
       "      <td>i am thankful for having internet connection. ...</td>\n",
       "    </tr>\n",
       "    <tr>\n",
       "      <th>15364</th>\n",
       "      <td>15365</td>\n",
       "      <td>0</td>\n",
       "      <td>watching my atfotf did for an @user &amp;amp; @use...</td>\n",
       "    </tr>\n",
       "    <tr>\n",
       "      <th>19332</th>\n",
       "      <td>19333</td>\n",
       "      <td>0</td>\n",
       "      <td>june is a #celebration month   bihdays to all ...</td>\n",
       "    </tr>\n",
       "    <tr>\n",
       "      <th>2095</th>\n",
       "      <td>2096</td>\n",
       "      <td>0</td>\n",
       "      <td>man on 333 bus is calling the bus driver a bat...</td>\n",
       "    </tr>\n",
       "  </tbody>\n",
       "</table>\n",
       "</div>"
      ],
      "text/plain": [
       "          id  label                                              tweet\n",
       "7952    7953      0  my arms hu #workout #comedy #funny   #vine #ga...\n",
       "19750  19751      0  i am thankful for having internet connection. ...\n",
       "15364  15365      0  watching my atfotf did for an @user &amp; @use...\n",
       "19332  19333      0  june is a #celebration month   bihdays to all ...\n",
       "2095    2096      0  man on 333 bus is calling the bus driver a bat..."
      ]
     },
     "execution_count": 35,
     "metadata": {},
     "output_type": "execute_result"
    }
   ],
   "source": [
    "df2.sample(5)"
   ]
  },
  {
   "cell_type": "code",
   "execution_count": 36,
   "id": "9169fc43",
   "metadata": {},
   "outputs": [],
   "source": [
    "df2['tweet'] = df2['tweet'].apply(remove_punc2)"
   ]
  },
  {
   "cell_type": "code",
   "execution_count": 37,
   "id": "51c5c72d",
   "metadata": {},
   "outputs": [
    {
     "data": {
      "text/plain": [
       "0         user when a father is dysfunctional and is so...\n",
       "1        user user thanks for lyft credit i cant use ca...\n",
       "2                                      bihday your majesty\n",
       "3        model   i love u take with u all the time in u...\n",
       "4                     factsguide society now    motivation\n",
       "                               ...                        \n",
       "31957    ate user isz that youuuðððððð...\n",
       "31958      to see nina turner on the airwaves trying to...\n",
       "31959    listening to sad songs on a monday morning otw...\n",
       "31960    user sikh temple vandalised in in calgary wso ...\n",
       "31961                      thank you user for you follow  \n",
       "Name: tweet, Length: 31962, dtype: object"
      ]
     },
     "execution_count": 37,
     "metadata": {},
     "output_type": "execute_result"
    }
   ],
   "source": [
    "df2['tweet']"
   ]
  },
  {
   "cell_type": "markdown",
   "id": "0a276153",
   "metadata": {},
   "source": [
    "# Chat Word Treatment"
   ]
  },
  {
   "cell_type": "code",
   "execution_count": 38,
   "id": "db89633c",
   "metadata": {},
   "outputs": [],
   "source": [
    "chat_word = { \n",
    "'AFAIK':'As Far As I Know',\n",
    "'AFK':'Away From Keyboard',\n",
    "'ASAP':'As Soon As Possible',\n",
    "'ATK':'At The Keyboard',\n",
    "'ATM':'At The Moment',\n",
    "'A3':'Anytime, Anywhere, Anyplace',\n",
    "'BAK':'Back At Keyboard',\n",
    "'BBL':'Be Back Later',\n",
    "'BBS':'Be Back Soon',\n",
    "'BFN':'Bye For Now',\n",
    "'B4N':'Bye For Now',\n",
    "'BRB':'Be Right Back',\n",
    "'BRT':'Be Right There',\n",
    "'BTW':'By The Way',\n",
    "'B4':'Before',\n",
    "'B4N':'Bye For Now',\n",
    "'CU':'See You',\n",
    "'CUL8R':'See You Later',\n",
    "'CYA':'See You',\n",
    "'FAQ':'Frequently Asked Questions',\n",
    "'FC':'Fingers Crossed',\n",
    "'FWIW':\"For What It's Worth\",\n",
    "'FYI':'For Your Information',\n",
    "'GAL':'Get A Life',\n",
    "'GG':'Good Game',\n",
    "'GN':'Good Night',\n",
    "'GMTA':'Great Minds Think Alike',\n",
    "'GR8':'Great',\n",
    "'G9':'Genius',\n",
    "'IC':'I See',\n",
    "'ICQ':'I Seek you (also a chat program)',\n",
    "'ILU': 'I Love You',\n",
    "'IMHO':'In My Honest/Humble Opinion',\n",
    "'IMO':'In My Opinion',\n",
    "'IOW':'In Other Words',\n",
    "'IRL':'In Real Life',\n",
    "'KISS':'Keep It Simple, Stupid',\n",
    "'LDR':'Long Distance Relationship',\n",
    "'LMAO':'Laugh My A.. Off',\n",
    "'LOL':'Laughing Out Loud',\n",
    "'LTNS':'Long Time No See',\n",
    "'L8R':'Later',\n",
    "'MTE':'My Thoughts Exactly',\n",
    "'M8':'Mate',\n",
    "'NRN':'No Reply Necessary',\n",
    "'OIC':'Oh I See',\n",
    "'PITA':'Pain In The A..',\n",
    "'PRT':'Party',\n",
    "'PRW':'Parents Are Watching',\n",
    "'QPSA':'Que Pasa',\n",
    "'ROFL':'Rolling On The Floor Laughing',\n",
    "'ROFLOL':'Rolling On The Floor Laughing Out Loud',\n",
    "'ROTFLMAO':'Rolling On The Floor Laughing My A.. Off',\n",
    "'SK8':'Skate',\n",
    "'STATS':'Your sex and age',\n",
    "'ASL':'Age, Sex, Location',\n",
    "'THX':'Thank You',\n",
    "'TTFN':'Ta-Ta For Now!',\n",
    "'TTYL':'Talk To You Later',\n",
    "'U':'You',\n",
    "'U2':'You Too',\n",
    "'U4E':'Yours For Ever',\n",
    "'WB':'Welcome Back',\n",
    "'WTF':'What The F...',\n",
    "'WTG':'Way To Go!',\n",
    "'WUF':'Where Are You From?',\n",
    "'W8':'Wait',\n",
    "'7K':'Sick:-D Laugher',\n",
    "'prblm':'Problem',\n",
    "'thnx':'Thank You',\n",
    "'Plz':'Please',\n",
    "'pls':'Please',\n",
    "'2mrw':'tomorrow',\n",
    "'BF':'boyfriend',\n",
    "'BF':'bestfriend',\n",
    "'GF':'girlfriend',\n",
    "'HBD':'Happy Birthday',\n",
    "'hhhhhh':'very funny',\n",
    "'How r u':'How are you?',\n",
    "'mins':'minutes',\n",
    "'MSG':'message',\n",
    "'nv':'nevermind',\n",
    "'OIC':'Oh, I see',\n",
    "'OTW':'on the way',\n",
    "'blnc':'chat_word',\n",
    "'P2P':'person-to-person',\n",
    "'U2':'you too',\n",
    "'ur':'your',\n",
    "'ZZZ':'tired',\n",
    "'ZZZ':'bored',\n",
    "'?4U':'I have a question for you.',\n",
    "'121':'one-to-one',\n",
    "'<3':'love',\n",
    "'CUZ':'because',\n",
    "'COS':'because',\n",
    "'CWYL':'Chat with you later',\n",
    "'DC':'disconnected',\n",
    "'DIY':'Do it yourself',\n",
    "'DM':'Direct Message',\n",
    "'F2F':'face-to-face',\n",
    "'FB':'Facebook',\n",
    "'Sup or Zup':\"What's up?\",\n",
    "\n",
    "}"
   ]
  },
  {
   "cell_type": "code",
   "execution_count": 39,
   "id": "d178b7d1",
   "metadata": {},
   "outputs": [],
   "source": [
    "def chat_word_treatment(text):\n",
    "    new_text = []\n",
    "    \n",
    "    for w in text.split():\n",
    "        if w.upper() in chat_word:\n",
    "            new_text.append(chat_word[w.upper()])\n",
    "            print(new_text)\n",
    "        else:\n",
    "            new_text.append(w)\n",
    "    return ' '.join(new_text)"
   ]
  },
  {
   "cell_type": "code",
   "execution_count": 40,
   "id": "2655d431",
   "metadata": {},
   "outputs": [],
   "source": [
    "text5 = \"\"\" And u2\"\"\""
   ]
  },
  {
   "cell_type": "code",
   "execution_count": 41,
   "id": "bc59207b",
   "metadata": {},
   "outputs": [
    {
     "name": "stdout",
     "output_type": "stream",
     "text": [
      "['And', 'you too']\n"
     ]
    }
   ],
   "source": [
    "result = chat_word_treatment(text5)"
   ]
  },
  {
   "cell_type": "code",
   "execution_count": null,
   "id": "f27ad000",
   "metadata": {},
   "outputs": [],
   "source": []
  }
 ],
 "metadata": {
  "kernelspec": {
   "display_name": "Python 3 (ipykernel)",
   "language": "python",
   "name": "python3"
  },
  "language_info": {
   "codemirror_mode": {
    "name": "ipython",
    "version": 3
   },
   "file_extension": ".py",
   "mimetype": "text/x-python",
   "name": "python",
   "nbconvert_exporter": "python",
   "pygments_lexer": "ipython3",
   "version": "3.8.10"
  }
 },
 "nbformat": 4,
 "nbformat_minor": 5
}
