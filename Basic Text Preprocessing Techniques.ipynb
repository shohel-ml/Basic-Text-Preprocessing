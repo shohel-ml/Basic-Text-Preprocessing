{
 "cells": [
  {
   "cell_type": "code",
   "execution_count": 50,
   "id": "028a3a1d",
   "metadata": {},
   "outputs": [],
   "source": [
    "import numpy as np\n",
    "import pandas as pd\n",
    "import re\n",
    "import num2words"
   ]
  },
  {
   "cell_type": "markdown",
   "id": "ecdf59df",
   "metadata": {},
   "source": [
    "# Reading Need Dataset"
   ]
  },
  {
   "cell_type": "code",
   "execution_count": 27,
   "id": "345c795b",
   "metadata": {},
   "outputs": [],
   "source": [
    "df = pd.read_csv('train_tweet.csv')\n",
    "df2 = pd.read_csv('IMDB Dataset.csv')"
   ]
  },
  {
   "cell_type": "markdown",
   "id": "4c5d0855",
   "metadata": {},
   "source": [
    "# Text Convert to Lower case"
   ]
  },
  {
   "cell_type": "code",
   "execution_count": 3,
   "id": "52eaa34f",
   "metadata": {},
   "outputs": [],
   "source": [
    "text = \"Hello Shohel HoW ARE you\""
   ]
  },
  {
   "cell_type": "code",
   "execution_count": 4,
   "id": "0b8117a2",
   "metadata": {},
   "outputs": [
    {
     "data": {
      "text/plain": [
       "'hello shohel how are you'"
      ]
     },
     "execution_count": 4,
     "metadata": {},
     "output_type": "execute_result"
    }
   ],
   "source": [
    "text.lower()"
   ]
  },
  {
   "cell_type": "code",
   "execution_count": 6,
   "id": "69a95bf9",
   "metadata": {},
   "outputs": [
    {
     "data": {
      "text/html": [
       "<div>\n",
       "<style scoped>\n",
       "    .dataframe tbody tr th:only-of-type {\n",
       "        vertical-align: middle;\n",
       "    }\n",
       "\n",
       "    .dataframe tbody tr th {\n",
       "        vertical-align: top;\n",
       "    }\n",
       "\n",
       "    .dataframe thead th {\n",
       "        text-align: right;\n",
       "    }\n",
       "</style>\n",
       "<table border=\"1\" class=\"dataframe\">\n",
       "  <thead>\n",
       "    <tr style=\"text-align: right;\">\n",
       "      <th></th>\n",
       "      <th>Unnamed: 0</th>\n",
       "      <th>review</th>\n",
       "      <th>sentiment</th>\n",
       "    </tr>\n",
       "  </thead>\n",
       "  <tbody>\n",
       "    <tr>\n",
       "      <th>0</th>\n",
       "      <td>0</td>\n",
       "      <td>One of the other reviewers has mentioned that ...</td>\n",
       "      <td>positive</td>\n",
       "    </tr>\n",
       "    <tr>\n",
       "      <th>1</th>\n",
       "      <td>1</td>\n",
       "      <td>A wonderful little production. &lt;br /&gt;&lt;br /&gt;The...</td>\n",
       "      <td>positive</td>\n",
       "    </tr>\n",
       "    <tr>\n",
       "      <th>2</th>\n",
       "      <td>2</td>\n",
       "      <td>I thought this was a wonderful way to spend ti...</td>\n",
       "      <td>positive</td>\n",
       "    </tr>\n",
       "    <tr>\n",
       "      <th>3</th>\n",
       "      <td>3</td>\n",
       "      <td>Basically there's a family where a little boy ...</td>\n",
       "      <td>negative</td>\n",
       "    </tr>\n",
       "    <tr>\n",
       "      <th>4</th>\n",
       "      <td>4</td>\n",
       "      <td>Petter Mattei's \"Love in the Time of Money\" is...</td>\n",
       "      <td>positive</td>\n",
       "    </tr>\n",
       "  </tbody>\n",
       "</table>\n",
       "</div>"
      ],
      "text/plain": [
       "   Unnamed: 0                                             review sentiment\n",
       "0           0  One of the other reviewers has mentioned that ...  positive\n",
       "1           1  A wonderful little production. <br /><br />The...  positive\n",
       "2           2  I thought this was a wonderful way to spend ti...  positive\n",
       "3           3  Basically there's a family where a little boy ...  negative\n",
       "4           4  Petter Mattei's \"Love in the Time of Money\" is...  positive"
      ]
     },
     "execution_count": 6,
     "metadata": {},
     "output_type": "execute_result"
    }
   ],
   "source": [
    "df2.head()"
   ]
  },
  {
   "cell_type": "code",
   "execution_count": 9,
   "id": "4ae45f8c",
   "metadata": {},
   "outputs": [
    {
     "data": {
      "text/plain": [
       "\"one of the other reviewers has mentioned that after watching just 1 oz episode you'll be hooked. they are right, as this is exactly what happened with me.<br /><br />the first thing that struck me about oz was its brutality and unflinching scenes of violence, which set in right from the word go. trust me, this is not a show for the faint hearted or timid. this show pulls no punches with regards to drugs, sex or violence. its is hardcore, in the classic use of the word.<br /><br />it is called oz as that is the nickname given to the oswald maximum security state penitentary. it focuses mainly on emerald city, an experimental section of the prison where all the cells have glass fronts and face inwards, so privacy is not high on the agenda. em city is home to many..aryans, muslims, gangstas, latinos, christians, italians, irish and more....so scuffles, death stares, dodgy dealings and shady agreements are never far away.<br /><br />i would say the main appeal of the show is due to the fact that it goes where other shows wouldn't dare. forget pretty pictures painted for mainstream audiences, forget charm, forget romance...oz doesn't mess around. the first episode i ever saw struck me as so nasty it was surreal, i couldn't say i was ready for it, but as i watched more, i developed a taste for oz, and got accustomed to the high levels of graphic violence. not just violence, but injustice (crooked guards who'll be sold out for a nickel, inmates who'll kill on order and get away with it, well mannered, middle class inmates being turned into prison bitches due to their lack of street skills or prison experience) watching oz, you may become comfortable with what is uncomfortable viewing....thats if you can get in touch with your darker side.\""
      ]
     },
     "execution_count": 9,
     "metadata": {},
     "output_type": "execute_result"
    }
   ],
   "source": [
    "df2['review'][0].lower()"
   ]
  },
  {
   "cell_type": "code",
   "execution_count": 12,
   "id": "375ff29b",
   "metadata": {},
   "outputs": [],
   "source": [
    "# all data set convert lower case\n",
    "\n",
    "df2['review'] = df2['review'].str.lower()"
   ]
  },
  {
   "cell_type": "code",
   "execution_count": 15,
   "id": "b7a3511a",
   "metadata": {},
   "outputs": [
    {
     "data": {
      "text/plain": [
       "'probably my all-time favorite movie, a story of selflessness, sacrifice and dedication to a noble cause, but it\\'s not preachy or boring. it just never gets old, despite my having seen it some 15 or more times in the last 25 years. paul lukas\\' performance brings tears to my eyes, and bette davis, in one of her very few truly sympathetic roles, is a delight. the kids are, as grandma says, more like \"dressed-up midgets\" than children, but that only makes them more fun to watch. and the mother\\'s slow awakening to what\\'s happening in the world and under her own roof is believable and startling. if i had a dozen thumbs, they\\'d all be \"up\" for this movie.'"
      ]
     },
     "execution_count": 15,
     "metadata": {},
     "output_type": "execute_result"
    }
   ],
   "source": [
    "df2['review'][5]"
   ]
  },
  {
   "cell_type": "code",
   "execution_count": 16,
   "id": "3fce0fd5",
   "metadata": {},
   "outputs": [],
   "source": [
    "def text_convert_lower_case(text):\n",
    "    text = text.lower()\n",
    "    return text"
   ]
  },
  {
   "cell_type": "code",
   "execution_count": 18,
   "id": "a820fc8a",
   "metadata": {},
   "outputs": [],
   "source": [
    "df2['review'] = df2['review'].apply(text_convert_lower_case)"
   ]
  },
  {
   "cell_type": "code",
   "execution_count": 19,
   "id": "5377ef59",
   "metadata": {},
   "outputs": [
    {
     "data": {
      "text/html": [
       "<div>\n",
       "<style scoped>\n",
       "    .dataframe tbody tr th:only-of-type {\n",
       "        vertical-align: middle;\n",
       "    }\n",
       "\n",
       "    .dataframe tbody tr th {\n",
       "        vertical-align: top;\n",
       "    }\n",
       "\n",
       "    .dataframe thead th {\n",
       "        text-align: right;\n",
       "    }\n",
       "</style>\n",
       "<table border=\"1\" class=\"dataframe\">\n",
       "  <thead>\n",
       "    <tr style=\"text-align: right;\">\n",
       "      <th></th>\n",
       "      <th>Unnamed: 0</th>\n",
       "      <th>review</th>\n",
       "      <th>sentiment</th>\n",
       "    </tr>\n",
       "  </thead>\n",
       "  <tbody>\n",
       "    <tr>\n",
       "      <th>0</th>\n",
       "      <td>0</td>\n",
       "      <td>one of the other reviewers has mentioned that ...</td>\n",
       "      <td>positive</td>\n",
       "    </tr>\n",
       "    <tr>\n",
       "      <th>1</th>\n",
       "      <td>1</td>\n",
       "      <td>a wonderful little production. &lt;br /&gt;&lt;br /&gt;the...</td>\n",
       "      <td>positive</td>\n",
       "    </tr>\n",
       "    <tr>\n",
       "      <th>2</th>\n",
       "      <td>2</td>\n",
       "      <td>i thought this was a wonderful way to spend ti...</td>\n",
       "      <td>positive</td>\n",
       "    </tr>\n",
       "    <tr>\n",
       "      <th>3</th>\n",
       "      <td>3</td>\n",
       "      <td>basically there's a family where a little boy ...</td>\n",
       "      <td>negative</td>\n",
       "    </tr>\n",
       "    <tr>\n",
       "      <th>4</th>\n",
       "      <td>4</td>\n",
       "      <td>petter mattei's \"love in the time of money\" is...</td>\n",
       "      <td>positive</td>\n",
       "    </tr>\n",
       "    <tr>\n",
       "      <th>...</th>\n",
       "      <td>...</td>\n",
       "      <td>...</td>\n",
       "      <td>...</td>\n",
       "    </tr>\n",
       "    <tr>\n",
       "      <th>49995</th>\n",
       "      <td>49995</td>\n",
       "      <td>i thought this movie did a down right good job...</td>\n",
       "      <td>positive</td>\n",
       "    </tr>\n",
       "    <tr>\n",
       "      <th>49996</th>\n",
       "      <td>49996</td>\n",
       "      <td>bad plot, bad dialogue, bad acting, idiotic di...</td>\n",
       "      <td>negative</td>\n",
       "    </tr>\n",
       "    <tr>\n",
       "      <th>49997</th>\n",
       "      <td>49997</td>\n",
       "      <td>i am a catholic taught in parochial elementary...</td>\n",
       "      <td>negative</td>\n",
       "    </tr>\n",
       "    <tr>\n",
       "      <th>49998</th>\n",
       "      <td>49998</td>\n",
       "      <td>i'm going to have to disagree with the previou...</td>\n",
       "      <td>negative</td>\n",
       "    </tr>\n",
       "    <tr>\n",
       "      <th>49999</th>\n",
       "      <td>49999</td>\n",
       "      <td>no one expects the star trek movies to be high...</td>\n",
       "      <td>negative</td>\n",
       "    </tr>\n",
       "  </tbody>\n",
       "</table>\n",
       "<p>50000 rows × 3 columns</p>\n",
       "</div>"
      ],
      "text/plain": [
       "       Unnamed: 0                                             review sentiment\n",
       "0               0  one of the other reviewers has mentioned that ...  positive\n",
       "1               1  a wonderful little production. <br /><br />the...  positive\n",
       "2               2  i thought this was a wonderful way to spend ti...  positive\n",
       "3               3  basically there's a family where a little boy ...  negative\n",
       "4               4  petter mattei's \"love in the time of money\" is...  positive\n",
       "...           ...                                                ...       ...\n",
       "49995       49995  i thought this movie did a down right good job...  positive\n",
       "49996       49996  bad plot, bad dialogue, bad acting, idiotic di...  negative\n",
       "49997       49997  i am a catholic taught in parochial elementary...  negative\n",
       "49998       49998  i'm going to have to disagree with the previou...  negative\n",
       "49999       49999  no one expects the star trek movies to be high...  negative\n",
       "\n",
       "[50000 rows x 3 columns]"
      ]
     },
     "execution_count": 19,
     "metadata": {},
     "output_type": "execute_result"
    }
   ],
   "source": [
    "df2"
   ]
  },
  {
   "cell_type": "markdown",
   "id": "6363bae2",
   "metadata": {},
   "source": [
    "# Html Tag Remove"
   ]
  },
  {
   "cell_type": "code",
   "execution_count": 21,
   "id": "5f870806",
   "metadata": {},
   "outputs": [],
   "source": [
    "def remove_html_tag(text):\n",
    "    pattern = re.compile(r\"<.*?>\")\n",
    "    return pattern.sub('', text)"
   ]
  },
  {
   "cell_type": "code",
   "execution_count": 22,
   "id": "c4410a41",
   "metadata": {},
   "outputs": [],
   "source": [
    "df2['review'] = df2['review'].apply(remove_html_tag)"
   ]
  },
  {
   "cell_type": "code",
   "execution_count": 25,
   "id": "83ba70f6",
   "metadata": {},
   "outputs": [
    {
     "data": {
      "text/plain": [
       "0        one of the other reviewers has mentioned that ...\n",
       "1        a wonderful little production. the filming tec...\n",
       "2        i thought this was a wonderful way to spend ti...\n",
       "3        basically there's a family where a little boy ...\n",
       "4        petter mattei's \"love in the time of money\" is...\n",
       "                               ...                        \n",
       "49995    i thought this movie did a down right good job...\n",
       "49996    bad plot, bad dialogue, bad acting, idiotic di...\n",
       "49997    i am a catholic taught in parochial elementary...\n",
       "49998    i'm going to have to disagree with the previou...\n",
       "49999    no one expects the star trek movies to be high...\n",
       "Name: review, Length: 50000, dtype: object"
      ]
     },
     "execution_count": 25,
     "metadata": {},
     "output_type": "execute_result"
    }
   ],
   "source": [
    "df2['review']"
   ]
  },
  {
   "cell_type": "code",
   "execution_count": 28,
   "id": "38f9d959",
   "metadata": {},
   "outputs": [],
   "source": [
    "def remove_html_tag2(text):\n",
    "    \n",
    "    pattern = r\"<.*?>\"\n",
    "    text = re.sub(pattern=pattern, repl='', string=text)\n",
    "    return text"
   ]
  },
  {
   "cell_type": "code",
   "execution_count": 29,
   "id": "7fc00b13",
   "metadata": {},
   "outputs": [],
   "source": [
    "df2['review'] = df2['review'].apply(remove_html_tag2)"
   ]
  },
  {
   "cell_type": "code",
   "execution_count": 30,
   "id": "ade9f7d6",
   "metadata": {},
   "outputs": [
    {
     "data": {
      "text/html": [
       "<div>\n",
       "<style scoped>\n",
       "    .dataframe tbody tr th:only-of-type {\n",
       "        vertical-align: middle;\n",
       "    }\n",
       "\n",
       "    .dataframe tbody tr th {\n",
       "        vertical-align: top;\n",
       "    }\n",
       "\n",
       "    .dataframe thead th {\n",
       "        text-align: right;\n",
       "    }\n",
       "</style>\n",
       "<table border=\"1\" class=\"dataframe\">\n",
       "  <thead>\n",
       "    <tr style=\"text-align: right;\">\n",
       "      <th></th>\n",
       "      <th>Unnamed: 0</th>\n",
       "      <th>review</th>\n",
       "      <th>sentiment</th>\n",
       "    </tr>\n",
       "  </thead>\n",
       "  <tbody>\n",
       "    <tr>\n",
       "      <th>0</th>\n",
       "      <td>0</td>\n",
       "      <td>One of the other reviewers has mentioned that ...</td>\n",
       "      <td>positive</td>\n",
       "    </tr>\n",
       "    <tr>\n",
       "      <th>1</th>\n",
       "      <td>1</td>\n",
       "      <td>A wonderful little production. The filming tec...</td>\n",
       "      <td>positive</td>\n",
       "    </tr>\n",
       "    <tr>\n",
       "      <th>2</th>\n",
       "      <td>2</td>\n",
       "      <td>I thought this was a wonderful way to spend ti...</td>\n",
       "      <td>positive</td>\n",
       "    </tr>\n",
       "    <tr>\n",
       "      <th>3</th>\n",
       "      <td>3</td>\n",
       "      <td>Basically there's a family where a little boy ...</td>\n",
       "      <td>negative</td>\n",
       "    </tr>\n",
       "    <tr>\n",
       "      <th>4</th>\n",
       "      <td>4</td>\n",
       "      <td>Petter Mattei's \"Love in the Time of Money\" is...</td>\n",
       "      <td>positive</td>\n",
       "    </tr>\n",
       "    <tr>\n",
       "      <th>...</th>\n",
       "      <td>...</td>\n",
       "      <td>...</td>\n",
       "      <td>...</td>\n",
       "    </tr>\n",
       "    <tr>\n",
       "      <th>49995</th>\n",
       "      <td>49995</td>\n",
       "      <td>I thought this movie did a down right good job...</td>\n",
       "      <td>positive</td>\n",
       "    </tr>\n",
       "    <tr>\n",
       "      <th>49996</th>\n",
       "      <td>49996</td>\n",
       "      <td>Bad plot, bad dialogue, bad acting, idiotic di...</td>\n",
       "      <td>negative</td>\n",
       "    </tr>\n",
       "    <tr>\n",
       "      <th>49997</th>\n",
       "      <td>49997</td>\n",
       "      <td>I am a Catholic taught in parochial elementary...</td>\n",
       "      <td>negative</td>\n",
       "    </tr>\n",
       "    <tr>\n",
       "      <th>49998</th>\n",
       "      <td>49998</td>\n",
       "      <td>I'm going to have to disagree with the previou...</td>\n",
       "      <td>negative</td>\n",
       "    </tr>\n",
       "    <tr>\n",
       "      <th>49999</th>\n",
       "      <td>49999</td>\n",
       "      <td>No one expects the Star Trek movies to be high...</td>\n",
       "      <td>negative</td>\n",
       "    </tr>\n",
       "  </tbody>\n",
       "</table>\n",
       "<p>50000 rows × 3 columns</p>\n",
       "</div>"
      ],
      "text/plain": [
       "       Unnamed: 0                                             review sentiment\n",
       "0               0  One of the other reviewers has mentioned that ...  positive\n",
       "1               1  A wonderful little production. The filming tec...  positive\n",
       "2               2  I thought this was a wonderful way to spend ti...  positive\n",
       "3               3  Basically there's a family where a little boy ...  negative\n",
       "4               4  Petter Mattei's \"Love in the Time of Money\" is...  positive\n",
       "...           ...                                                ...       ...\n",
       "49995       49995  I thought this movie did a down right good job...  positive\n",
       "49996       49996  Bad plot, bad dialogue, bad acting, idiotic di...  negative\n",
       "49997       49997  I am a Catholic taught in parochial elementary...  negative\n",
       "49998       49998  I'm going to have to disagree with the previou...  negative\n",
       "49999       49999  No one expects the Star Trek movies to be high...  negative\n",
       "\n",
       "[50000 rows x 3 columns]"
      ]
     },
     "execution_count": 30,
     "metadata": {},
     "output_type": "execute_result"
    }
   ],
   "source": [
    "df2"
   ]
  },
  {
   "cell_type": "markdown",
   "id": "b6c4dcaa",
   "metadata": {},
   "source": [
    "# Urls Remove"
   ]
  },
  {
   "cell_type": "code",
   "execution_count": 31,
   "id": "36919ddd",
   "metadata": {},
   "outputs": [],
   "source": [
    "def remove_urls(text):\n",
    "    pattern = re.compile(r\"https?://\\S+|www.\\S+\")\n",
    "    return pattern.sub('', text)"
   ]
  },
  {
   "cell_type": "code",
   "execution_count": 38,
   "id": "aa5ff23e",
   "metadata": {},
   "outputs": [],
   "source": [
    "text2 = 'Hello SHohel https://dataaspirant.com/nlp-text-preprocessing-techniques-implementation-python/#t-1600077497352 ' "
   ]
  },
  {
   "cell_type": "code",
   "execution_count": 35,
   "id": "4b03a828",
   "metadata": {},
   "outputs": [
    {
     "data": {
      "text/plain": [
       "'Hello SHohel  '"
      ]
     },
     "execution_count": 35,
     "metadata": {},
     "output_type": "execute_result"
    }
   ],
   "source": [
    "remove_urls(text2)"
   ]
  },
  {
   "cell_type": "code",
   "execution_count": 36,
   "id": "06d7b956",
   "metadata": {},
   "outputs": [],
   "source": [
    "def remove_urls2(text):\n",
    "    pattern = r\"https?://\\S+|www.\\S+\"\n",
    "    text = re.sub(pattern=pattern, repl='',string=text)\n",
    "    return text"
   ]
  },
  {
   "cell_type": "code",
   "execution_count": 37,
   "id": "2ae75b5b",
   "metadata": {},
   "outputs": [],
   "source": [
    "text2 = 'Hello SHohel https://dataaspirant.com/nlp-text-preprocessing-techniques-implementation-python/#t-1600077497352 ' "
   ]
  },
  {
   "cell_type": "code",
   "execution_count": 39,
   "id": "b780cd17",
   "metadata": {},
   "outputs": [
    {
     "data": {
      "text/plain": [
       "'Hello SHohel  '"
      ]
     },
     "execution_count": 39,
     "metadata": {},
     "output_type": "execute_result"
    }
   ],
   "source": [
    "remove_urls2(text2)"
   ]
  },
  {
   "cell_type": "markdown",
   "id": "51aaf87e",
   "metadata": {},
   "source": [
    "# Removing Digit"
   ]
  },
  {
   "cell_type": "code",
   "execution_count": 44,
   "id": "84115d75",
   "metadata": {},
   "outputs": [],
   "source": [
    "def remove_digit(text):\n",
    "    pattern = r'\\d+'\n",
    "    text = re.sub(pattern=pattern, repl='', string=text)\n",
    "    return text"
   ]
  },
  {
   "cell_type": "code",
   "execution_count": 45,
   "id": "14b6822b",
   "metadata": {},
   "outputs": [],
   "source": [
    "text3 = 'shohel2 hossai2n'"
   ]
  },
  {
   "cell_type": "code",
   "execution_count": 46,
   "id": "63394b02",
   "metadata": {},
   "outputs": [
    {
     "data": {
      "text/plain": [
       "'shohel hossain'"
      ]
     },
     "execution_count": 46,
     "metadata": {},
     "output_type": "execute_result"
    }
   ],
   "source": [
    "remove_digit(text3)"
   ]
  },
  {
   "cell_type": "markdown",
   "id": "f69cfece",
   "metadata": {},
   "source": [
    "# Convert Number to Word "
   ]
  },
  {
   "cell_type": "code",
   "execution_count": 64,
   "id": "e451841c",
   "metadata": {},
   "outputs": [],
   "source": [
    "def convert_num_to_word(text):\n",
    "    new_text = text.split()\n",
    "    \n",
    "    for index in range(len(new_text)):\n",
    "        if new_text[index].isdigit():\n",
    "            new_text[index] = num2words.num2words(new_text[index])\n",
    "            \n",
    "\n",
    "    new_text_word = ' '.join(new_text)\n",
    "    \n",
    "    return new_text_word"
   ]
  },
  {
   "cell_type": "code",
   "execution_count": 65,
   "id": "47ca352f",
   "metadata": {},
   "outputs": [],
   "source": [
    "text4 =  \"\"\"This is an example sentence for converting numbers to words like 1 to one, 5 to five, 74 to seventy-four, etc.\"\"\""
   ]
  },
  {
   "cell_type": "code",
   "execution_count": 67,
   "id": "8c1d785f",
   "metadata": {},
   "outputs": [
    {
     "data": {
      "text/plain": [
       "'This is an example sentence for converting numbers to words like one to one, five to five, seventy-four to seventy-four, etc.'"
      ]
     },
     "execution_count": 67,
     "metadata": {},
     "output_type": "execute_result"
    }
   ],
   "source": [
    "convert_num_to_word(text4)"
   ]
  },
  {
   "cell_type": "markdown",
   "id": "eea3af3b",
   "metadata": {},
   "source": [
    "# spelling correction"
   ]
  },
  {
   "cell_type": "code",
   "execution_count": 76,
   "id": "5b512987",
   "metadata": {},
   "outputs": [
    {
     "data": {
      "text/plain": [
       "'Hello shovel of are you'"
      ]
     },
     "execution_count": 76,
     "metadata": {},
     "output_type": "execute_result"
    }
   ],
   "source": [
    "from textblob import TextBlob\n",
    "\n",
    "textblob = TextBlob('Hello shohel HO are you')\n",
    "\n",
    "textblob.correct().string"
   ]
  },
  {
   "cell_type": "code",
   "execution_count": 100,
   "id": "9c12265f",
   "metadata": {},
   "outputs": [],
   "source": [
    "text5 = 'dep learni indi'"
   ]
  },
  {
   "cell_type": "code",
   "execution_count": 101,
   "id": "95b24411",
   "metadata": {},
   "outputs": [],
   "source": [
    "from spellchecker import SpellChecker\n",
    "\n",
    "spell_corrector = SpellChecker()\n",
    "\n",
    "def text_spell_corrector(text):\n",
    "    correct_spell = []\n",
    "    worng_spell_word = spell_corrector.unknown(text.split())\n",
    "    \n",
    "    for word in text.split():\n",
    "        if word in worng_spell_word:\n",
    "            right_word = spell_corrector.correction(word)\n",
    "            correct_spell.append(right_word)\n",
    "        else:\n",
    "            correct_spell.append(word)\n",
    "    right_word = ' '.join(correct_spell)\n",
    "    return right_word"
   ]
  },
  {
   "cell_type": "code",
   "execution_count": 102,
   "id": "16d95a1b",
   "metadata": {},
   "outputs": [
    {
     "data": {
      "text/plain": [
       "'dep learn andi'"
      ]
     },
     "execution_count": 102,
     "metadata": {},
     "output_type": "execute_result"
    }
   ],
   "source": [
    "text_spell_corrector(text5)"
   ]
  },
  {
   "cell_type": "code",
   "execution_count": 105,
   "id": "8376f217",
   "metadata": {},
   "outputs": [],
   "source": [
    "text6 = \"\"\"\n",
    "This is an example sentene for spell corecton\n",
    "\"\"\""
   ]
  },
  {
   "cell_type": "code",
   "execution_count": 106,
   "id": "a6b5f016",
   "metadata": {},
   "outputs": [
    {
     "data": {
      "text/plain": [
       "'This is an example sentence for spell correction'"
      ]
     },
     "execution_count": 106,
     "metadata": {},
     "output_type": "execute_result"
    }
   ],
   "source": [
    "text_spell_corrector(text6)"
   ]
  },
  {
   "cell_type": "code",
   "execution_count": 111,
   "id": "0238dc8f",
   "metadata": {},
   "outputs": [
    {
     "ename": "AttributeError",
     "evalue": "'str' object has no attribute 'apply'",
     "output_type": "error",
     "traceback": [
      "\u001b[0;31m---------------------------------------------------------------------------\u001b[0m",
      "\u001b[0;31mAttributeError\u001b[0m                            Traceback (most recent call last)",
      "\u001b[0;32m/tmp/ipykernel_25210/2997254643.py\u001b[0m in \u001b[0;36m<module>\u001b[0;34m\u001b[0m\n\u001b[0;32m----> 1\u001b[0;31m \u001b[0mdf2\u001b[0m\u001b[0;34m[\u001b[0m\u001b[0;34m'review'\u001b[0m\u001b[0;34m]\u001b[0m \u001b[0;34m=\u001b[0m \u001b[0mdf2\u001b[0m\u001b[0;34m[\u001b[0m\u001b[0;34m'review'\u001b[0m\u001b[0;34m]\u001b[0m\u001b[0;34m[\u001b[0m\u001b[0;36m3\u001b[0m\u001b[0;34m]\u001b[0m\u001b[0;34m.\u001b[0m\u001b[0mapply\u001b[0m\u001b[0;34m(\u001b[0m\u001b[0mtext_spell_corrector\u001b[0m\u001b[0;34m)\u001b[0m\u001b[0;34m\u001b[0m\u001b[0;34m\u001b[0m\u001b[0m\n\u001b[0m",
      "\u001b[0;31mAttributeError\u001b[0m: 'str' object has no attribute 'apply'"
     ]
    }
   ],
   "source": [
    "# df2['review'] = df2['review'][3].apply(text_spell_corrector)"
   ]
  },
  {
   "cell_type": "code",
   "execution_count": 113,
   "id": "665d9609",
   "metadata": {},
   "outputs": [
    {
     "data": {
      "text/plain": [
       "'petter mattei\\'s \"love in the time of money\" is a visually stunning film to watch mr. mattei offers us a vivid portrait about human relations this is a movie that seems to be telling us what money power and success do to people in the different situations we encounter this being a variation on the arthur schnitzler\\'s play about the same theme the director transfers the action to the present time new york where all these different characters meet and connect each one is connected in one way or another to the next person but no one seems to know the previous point of contact stylishly, the film has a sophisticated luxurious look we are taken to see how these people live and the world they live in their own habitat.the only thing one gets out of all these souls in the picture is the different stages of loneliness each one inhabits a big city is not exactly the best place in which human relations find sincere fulfillment as one discerns is the case with most of the people we encounter.the acting is good under mr. mattei\\'s direction steve buscemi, rosario dawson, carol kane, michael imperioli, adrian grenier, and the rest of the talented cast make these characters come alive.we wish mr. mattei good luck and await anxiously for his next work'"
      ]
     },
     "execution_count": 113,
     "metadata": {},
     "output_type": "execute_result"
    }
   ],
   "source": [
    "text_spell_corrector(df2['review'][4]).lower()"
   ]
  },
  {
   "cell_type": "markdown",
   "id": "d379eab0",
   "metadata": {},
   "source": [
    "# removing punctuations"
   ]
  },
  {
   "cell_type": "code",
   "execution_count": 114,
   "id": "74038508",
   "metadata": {},
   "outputs": [],
   "source": [
    "from string import punctuation\n",
    "\n",
    "punc = punctuation"
   ]
  },
  {
   "cell_type": "code",
   "execution_count": 115,
   "id": "3502b0e1",
   "metadata": {},
   "outputs": [],
   "source": [
    "def remove_punc(text):\n",
    "    \n",
    "    for char in punc:\n",
    "        text = text.replace(char, '')\n",
    "    \n",
    "    return text"
   ]
  },
  {
   "cell_type": "code",
   "execution_count": 116,
   "id": "271eddb6",
   "metadata": {},
   "outputs": [],
   "source": [
    "def remove_punc2(text):\n",
    "    return text.translate(str.maketrans('', '', punc))"
   ]
  },
  {
   "cell_type": "code",
   "execution_count": 120,
   "id": "55aeb8d4",
   "metadata": {},
   "outputs": [],
   "source": [
    "text7 = 'this is an example text for punctuations like .?/* '"
   ]
  },
  {
   "cell_type": "code",
   "execution_count": 119,
   "id": "74eb4131",
   "metadata": {},
   "outputs": [
    {
     "data": {
      "text/plain": [
       "'this is an example text for punctuations like  '"
      ]
     },
     "execution_count": 119,
     "metadata": {},
     "output_type": "execute_result"
    }
   ],
   "source": [
    "remove_punc2(text7)"
   ]
  },
  {
   "cell_type": "code",
   "execution_count": 121,
   "id": "a2c0e9ef",
   "metadata": {},
   "outputs": [],
   "source": [
    "df['tweet'] = df['tweet'].apply(remove_punc)"
   ]
  },
  {
   "cell_type": "code",
   "execution_count": 122,
   "id": "f5b78a81",
   "metadata": {},
   "outputs": [
    {
     "data": {
      "text/html": [
       "<div>\n",
       "<style scoped>\n",
       "    .dataframe tbody tr th:only-of-type {\n",
       "        vertical-align: middle;\n",
       "    }\n",
       "\n",
       "    .dataframe tbody tr th {\n",
       "        vertical-align: top;\n",
       "    }\n",
       "\n",
       "    .dataframe thead th {\n",
       "        text-align: right;\n",
       "    }\n",
       "</style>\n",
       "<table border=\"1\" class=\"dataframe\">\n",
       "  <thead>\n",
       "    <tr style=\"text-align: right;\">\n",
       "      <th></th>\n",
       "      <th>id</th>\n",
       "      <th>label</th>\n",
       "      <th>tweet</th>\n",
       "    </tr>\n",
       "  </thead>\n",
       "  <tbody>\n",
       "    <tr>\n",
       "      <th>0</th>\n",
       "      <td>1</td>\n",
       "      <td>0</td>\n",
       "      <td>user when a father is dysfunctional and is so...</td>\n",
       "    </tr>\n",
       "    <tr>\n",
       "      <th>1</th>\n",
       "      <td>2</td>\n",
       "      <td>0</td>\n",
       "      <td>user user thanks for lyft credit i cant use ca...</td>\n",
       "    </tr>\n",
       "    <tr>\n",
       "      <th>2</th>\n",
       "      <td>3</td>\n",
       "      <td>0</td>\n",
       "      <td>bihday your majesty</td>\n",
       "    </tr>\n",
       "    <tr>\n",
       "      <th>3</th>\n",
       "      <td>4</td>\n",
       "      <td>0</td>\n",
       "      <td>model   i love u take with u all the time in u...</td>\n",
       "    </tr>\n",
       "    <tr>\n",
       "      <th>4</th>\n",
       "      <td>5</td>\n",
       "      <td>0</td>\n",
       "      <td>factsguide society now    motivation</td>\n",
       "    </tr>\n",
       "    <tr>\n",
       "      <th>...</th>\n",
       "      <td>...</td>\n",
       "      <td>...</td>\n",
       "      <td>...</td>\n",
       "    </tr>\n",
       "    <tr>\n",
       "      <th>31957</th>\n",
       "      <td>31958</td>\n",
       "      <td>0</td>\n",
       "      <td>ate user isz that youuuðððððð...</td>\n",
       "    </tr>\n",
       "    <tr>\n",
       "      <th>31958</th>\n",
       "      <td>31959</td>\n",
       "      <td>0</td>\n",
       "      <td>to see nina turner on the airwaves trying to...</td>\n",
       "    </tr>\n",
       "    <tr>\n",
       "      <th>31959</th>\n",
       "      <td>31960</td>\n",
       "      <td>0</td>\n",
       "      <td>listening to sad songs on a monday morning otw...</td>\n",
       "    </tr>\n",
       "    <tr>\n",
       "      <th>31960</th>\n",
       "      <td>31961</td>\n",
       "      <td>1</td>\n",
       "      <td>user sikh temple vandalised in in calgary wso ...</td>\n",
       "    </tr>\n",
       "    <tr>\n",
       "      <th>31961</th>\n",
       "      <td>31962</td>\n",
       "      <td>0</td>\n",
       "      <td>thank you user for you follow</td>\n",
       "    </tr>\n",
       "  </tbody>\n",
       "</table>\n",
       "<p>31962 rows × 3 columns</p>\n",
       "</div>"
      ],
      "text/plain": [
       "          id  label                                              tweet\n",
       "0          1      0   user when a father is dysfunctional and is so...\n",
       "1          2      0  user user thanks for lyft credit i cant use ca...\n",
       "2          3      0                                bihday your majesty\n",
       "3          4      0  model   i love u take with u all the time in u...\n",
       "4          5      0               factsguide society now    motivation\n",
       "...      ...    ...                                                ...\n",
       "31957  31958      0  ate user isz that youuuðððððð...\n",
       "31958  31959      0    to see nina turner on the airwaves trying to...\n",
       "31959  31960      0  listening to sad songs on a monday morning otw...\n",
       "31960  31961      1  user sikh temple vandalised in in calgary wso ...\n",
       "31961  31962      0                    thank you user for you follow  \n",
       "\n",
       "[31962 rows x 3 columns]"
      ]
     },
     "execution_count": 122,
     "metadata": {},
     "output_type": "execute_result"
    }
   ],
   "source": [
    "df"
   ]
  },
  {
   "cell_type": "markdown",
   "id": "87de1f1a",
   "metadata": {},
   "source": [
    "# Chat Word Treatment"
   ]
  },
  {
   "cell_type": "code",
   "execution_count": 123,
   "id": "6be57629",
   "metadata": {},
   "outputs": [],
   "source": [
    "chat_word = { \n",
    "'AFAIK':'As Far As I Know',\n",
    "'AFK':'Away From Keyboard',\n",
    "'ASAP':'As Soon As Possible',\n",
    "'ATK':'At The Keyboard',\n",
    "'ATM':'At The Moment',\n",
    "'A3':'Anytime, Anywhere, Anyplace',\n",
    "'BAK':'Back At Keyboard',\n",
    "'BBL':'Be Back Later',\n",
    "'BBS':'Be Back Soon',\n",
    "'BFN':'Bye For Now',\n",
    "'B4N':'Bye For Now',\n",
    "'BRB':'Be Right Back',\n",
    "'BRT':'Be Right There',\n",
    "'BTW':'By The Way',\n",
    "'B4':'Before',\n",
    "'B4N':'Bye For Now',\n",
    "'CU':'See You',\n",
    "'CUL8R':'See You Later',\n",
    "'CYA':'See You',\n",
    "'FAQ':'Frequently Asked Questions',\n",
    "'FC':'Fingers Crossed',\n",
    "'FWIW':\"For What It's Worth\",\n",
    "'FYI':'For Your Information',\n",
    "'GAL':'Get A Life',\n",
    "'GG':'Good Game',\n",
    "'GN':'Good Night',\n",
    "'GMTA':'Great Minds Think Alike',\n",
    "'GR8':'Great',\n",
    "'G9':'Genius',\n",
    "'IC':'I See',\n",
    "'ICQ':'I Seek you (also a chat program)',\n",
    "'ILU': 'I Love You',\n",
    "'IMHO':'In My Honest/Humble Opinion',\n",
    "'IMO':'In My Opinion',\n",
    "'IOW':'In Other Words',\n",
    "'IRL':'In Real Life',\n",
    "'KISS':'Keep It Simple, Stupid',\n",
    "'LDR':'Long Distance Relationship',\n",
    "'LMAO':'Laugh My A.. Off',\n",
    "'LOL':'Laughing Out Loud',\n",
    "'LTNS':'Long Time No See',\n",
    "'L8R':'Later',\n",
    "'MTE':'My Thoughts Exactly',\n",
    "'M8':'Mate',\n",
    "'NRN':'No Reply Necessary',\n",
    "'OIC':'Oh I See',\n",
    "'PITA':'Pain In The A..',\n",
    "'PRT':'Party',\n",
    "'PRW':'Parents Are Watching',\n",
    "'QPSA':'Que Pasa',\n",
    "'ROFL':'Rolling On The Floor Laughing',\n",
    "'ROFLOL':'Rolling On The Floor Laughing Out Loud',\n",
    "'ROTFLMAO':'Rolling On The Floor Laughing My A.. Off',\n",
    "'SK8':'Skate',\n",
    "'STATS':'Your sex and age',\n",
    "'ASL':'Age, Sex, Location',\n",
    "'THX':'Thank You',\n",
    "'TTFN':'Ta-Ta For Now!',\n",
    "'TTYL':'Talk To You Later',\n",
    "'U':'You',\n",
    "'U2':'You Too',\n",
    "'U4E':'Yours For Ever',\n",
    "'WB':'Welcome Back',\n",
    "'WTF':'What The F...',\n",
    "'WTG':'Way To Go!',\n",
    "'WUF':'Where Are You From?',\n",
    "'W8':'Wait',\n",
    "'7K':'Sick:-D Laugher',\n",
    "'prblm':'Problem',\n",
    "'thnx':'Thank You',\n",
    "'Plz':'Please',\n",
    "'pls':'Please',\n",
    "'2mrw':'tomorrow',\n",
    "'BF':'boyfriend',\n",
    "'BF':'bestfriend',\n",
    "'GF':'girlfriend',\n",
    "'HBD':'Happy Birthday',\n",
    "'hhhhhh':'very funny',\n",
    "'How r u':'How are you?',\n",
    "'mins':'minutes',\n",
    "'MSG':'message',\n",
    "'nv':'nevermind',\n",
    "'OIC':'Oh, I see',\n",
    "'OTW':'on the way',\n",
    "'blnc':'chat_word',\n",
    "'P2P':'person-to-person',\n",
    "'U2':'you too',\n",
    "'ur':'your',\n",
    "'ZZZ':'tired',\n",
    "'ZZZ':'bored',\n",
    "'?4U':'I have a question for you.',\n",
    "'121':'one-to-one',\n",
    "'<3':'love',\n",
    "'CUZ':'because',\n",
    "'COS':'because',\n",
    "'CWYL':'Chat with you later',\n",
    "'DC':'disconnected',\n",
    "'DIY':'Do it yourself',\n",
    "'DM':'Direct Message',\n",
    "'F2F':'face-to-face',\n",
    "'FB':'Facebook',\n",
    "'Sup or Zup':\"What's up?\",\n",
    "\n",
    "}"
   ]
  },
  {
   "cell_type": "code",
   "execution_count": 124,
   "id": "261ebd9f",
   "metadata": {},
   "outputs": [],
   "source": [
    "def handilig_chat_word(text):\n",
    "    \n",
    "    new_text = []\n",
    "    \n",
    "    for word in text.split():\n",
    "        if word.upper() in chat_word:\n",
    "             new_text.append(chat_word[word.upper()])\n",
    "        else:\n",
    "            new_text.append(word)\n",
    "    return ' '.join(new_text)"
   ]
  },
  {
   "cell_type": "code",
   "execution_count": 125,
   "id": "64b95789",
   "metadata": {},
   "outputs": [],
   "source": [
    "text8 = \"\"\" And u2\"\"\""
   ]
  },
  {
   "cell_type": "code",
   "execution_count": 126,
   "id": "718538a1",
   "metadata": {},
   "outputs": [
    {
     "data": {
      "text/plain": [
       "'And you too'"
      ]
     },
     "execution_count": 126,
     "metadata": {},
     "output_type": "execute_result"
    }
   ],
   "source": [
    "handilig_chat_word(text8)"
   ]
  },
  {
   "cell_type": "code",
   "execution_count": null,
   "id": "fa71b7d5",
   "metadata": {},
   "outputs": [],
   "source": []
  }
 ],
 "metadata": {
  "kernelspec": {
   "display_name": "Python 3 (ipykernel)",
   "language": "python",
   "name": "python3"
  },
  "language_info": {
   "codemirror_mode": {
    "name": "ipython",
    "version": 3
   },
   "file_extension": ".py",
   "mimetype": "text/x-python",
   "name": "python",
   "nbconvert_exporter": "python",
   "pygments_lexer": "ipython3",
   "version": "3.8.10"
  }
 },
 "nbformat": 4,
 "nbformat_minor": 5
}
