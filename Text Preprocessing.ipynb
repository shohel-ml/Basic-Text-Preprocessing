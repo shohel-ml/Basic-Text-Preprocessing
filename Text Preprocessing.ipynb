{
 "cells": [
  {
   "cell_type": "code",
   "execution_count": 27,
   "id": "305f1435",
   "metadata": {},
   "outputs": [],
   "source": [
    "import numpy as np\n",
    "import pandas as pd\n",
    "import re\n",
    "import string"
   ]
  },
  {
   "cell_type": "code",
   "execution_count": 28,
   "id": "16269b02",
   "metadata": {},
   "outputs": [],
   "source": [
    "df = pd.read_csv('IMDB Dataset.csv')"
   ]
  },
  {
   "cell_type": "code",
   "execution_count": 29,
   "id": "078406d3",
   "metadata": {},
   "outputs": [
    {
     "data": {
      "text/html": [
       "<div>\n",
       "<style scoped>\n",
       "    .dataframe tbody tr th:only-of-type {\n",
       "        vertical-align: middle;\n",
       "    }\n",
       "\n",
       "    .dataframe tbody tr th {\n",
       "        vertical-align: top;\n",
       "    }\n",
       "\n",
       "    .dataframe thead th {\n",
       "        text-align: right;\n",
       "    }\n",
       "</style>\n",
       "<table border=\"1\" class=\"dataframe\">\n",
       "  <thead>\n",
       "    <tr style=\"text-align: right;\">\n",
       "      <th></th>\n",
       "      <th>Unnamed: 0</th>\n",
       "      <th>review</th>\n",
       "      <th>sentiment</th>\n",
       "    </tr>\n",
       "  </thead>\n",
       "  <tbody>\n",
       "    <tr>\n",
       "      <th>29147</th>\n",
       "      <td>29147</td>\n",
       "      <td>Or at least one of the best. I think this is a...</td>\n",
       "      <td>positive</td>\n",
       "    </tr>\n",
       "    <tr>\n",
       "      <th>45739</th>\n",
       "      <td>45739</td>\n",
       "      <td>Sadly, this movie is not very good. But does i...</td>\n",
       "      <td>negative</td>\n",
       "    </tr>\n",
       "    <tr>\n",
       "      <th>30631</th>\n",
       "      <td>30631</td>\n",
       "      <td>So the wife and I just finished it despite sev...</td>\n",
       "      <td>negative</td>\n",
       "    </tr>\n",
       "    <tr>\n",
       "      <th>29856</th>\n",
       "      <td>29856</td>\n",
       "      <td>I saw the film in its original theatrical rele...</td>\n",
       "      <td>positive</td>\n",
       "    </tr>\n",
       "    <tr>\n",
       "      <th>16975</th>\n",
       "      <td>16975</td>\n",
       "      <td>I initially tuned in to Paranormal State becau...</td>\n",
       "      <td>negative</td>\n",
       "    </tr>\n",
       "  </tbody>\n",
       "</table>\n",
       "</div>"
      ],
      "text/plain": [
       "       Unnamed: 0                                             review sentiment\n",
       "29147       29147  Or at least one of the best. I think this is a...  positive\n",
       "45739       45739  Sadly, this movie is not very good. But does i...  negative\n",
       "30631       30631  So the wife and I just finished it despite sev...  negative\n",
       "29856       29856  I saw the film in its original theatrical rele...  positive\n",
       "16975       16975  I initially tuned in to Paranormal State becau...  negative"
      ]
     },
     "execution_count": 29,
     "metadata": {},
     "output_type": "execute_result"
    }
   ],
   "source": [
    "df.sample(5)"
   ]
  },
  {
   "cell_type": "code",
   "execution_count": 30,
   "id": "b16121a1",
   "metadata": {},
   "outputs": [
    {
     "data": {
      "text/plain": [
       "(50000, 3)"
      ]
     },
     "execution_count": 30,
     "metadata": {},
     "output_type": "execute_result"
    }
   ],
   "source": [
    "df.shape"
   ]
  },
  {
   "cell_type": "markdown",
   "id": "0269d8ff",
   "metadata": {},
   "source": [
    "# Convert Text Lower Case"
   ]
  },
  {
   "cell_type": "code",
   "execution_count": 31,
   "id": "673ef4e5",
   "metadata": {},
   "outputs": [
    {
     "data": {
      "text/plain": [
       "'Phil the Alien is one of those quirky films where the humour is based around the oddness of everything rather than actual punchlines.<br /><br />At first it was very odd and pretty funny but as the movie progressed I didn\\'t find the jokes or oddness funny anymore.<br /><br />Its a low budget film (thats never a problem in itself), there were some pretty interesting characters, but eventually I just lost interest.<br /><br />I imagine this film would appeal to a stoner who is currently partaking.<br /><br />For something similar but better try \"Brother from another planet\"'"
      ]
     },
     "execution_count": 31,
     "metadata": {},
     "output_type": "execute_result"
    }
   ],
   "source": [
    "df['review'][10]"
   ]
  },
  {
   "cell_type": "code",
   "execution_count": 8,
   "id": "feddecde",
   "metadata": {},
   "outputs": [
    {
     "data": {
      "text/plain": [
       "'phil the alien is one of those quirky films where the humour is based around the oddness of everything rather than actual punchlines.<br /><br />at first it was very odd and pretty funny but as the movie progressed i didn\\'t find the jokes or oddness funny anymore.<br /><br />its a low budget film (thats never a problem in itself), there were some pretty interesting characters, but eventually i just lost interest.<br /><br />i imagine this film would appeal to a stoner who is currently partaking.<br /><br />for something similar but better try \"brother from another planet\"'"
      ]
     },
     "execution_count": 8,
     "metadata": {},
     "output_type": "execute_result"
    }
   ],
   "source": [
    "df['review'][10].lower()"
   ]
  },
  {
   "cell_type": "code",
   "execution_count": 9,
   "id": "cadfce54",
   "metadata": {},
   "outputs": [
    {
     "data": {
      "text/plain": [
       "0        one of the other reviewers has mentioned that ...\n",
       "1        a wonderful little production. <br /><br />the...\n",
       "2        i thought this was a wonderful way to spend ti...\n",
       "3        basically there's a family where a little boy ...\n",
       "4        petter mattei's \"love in the time of money\" is...\n",
       "                               ...                        \n",
       "49995    i thought this movie did a down right good job...\n",
       "49996    bad plot, bad dialogue, bad acting, idiotic di...\n",
       "49997    i am a catholic taught in parochial elementary...\n",
       "49998    i'm going to have to disagree with the previou...\n",
       "49999    no one expects the star trek movies to be high...\n",
       "Name: review, Length: 50000, dtype: object"
      ]
     },
     "execution_count": 9,
     "metadata": {},
     "output_type": "execute_result"
    }
   ],
   "source": [
    "df['review'].str.lower()"
   ]
  },
  {
   "cell_type": "code",
   "execution_count": 15,
   "id": "53702a8e",
   "metadata": {},
   "outputs": [],
   "source": [
    "def convert_lower_case(text):\n",
    "    text = text.lower()\n",
    "    return text"
   ]
  },
  {
   "cell_type": "code",
   "execution_count": 16,
   "id": "d243bf22",
   "metadata": {},
   "outputs": [],
   "source": [
    "df['review'] = df['review'].apply(convert_lower_case)"
   ]
  },
  {
   "cell_type": "code",
   "execution_count": 17,
   "id": "bce6fc33",
   "metadata": {},
   "outputs": [
    {
     "data": {
      "text/html": [
       "<div>\n",
       "<style scoped>\n",
       "    .dataframe tbody tr th:only-of-type {\n",
       "        vertical-align: middle;\n",
       "    }\n",
       "\n",
       "    .dataframe tbody tr th {\n",
       "        vertical-align: top;\n",
       "    }\n",
       "\n",
       "    .dataframe thead th {\n",
       "        text-align: right;\n",
       "    }\n",
       "</style>\n",
       "<table border=\"1\" class=\"dataframe\">\n",
       "  <thead>\n",
       "    <tr style=\"text-align: right;\">\n",
       "      <th></th>\n",
       "      <th>Unnamed: 0</th>\n",
       "      <th>review</th>\n",
       "      <th>sentiment</th>\n",
       "    </tr>\n",
       "  </thead>\n",
       "  <tbody>\n",
       "    <tr>\n",
       "      <th>0</th>\n",
       "      <td>0</td>\n",
       "      <td>one of the other reviewers has mentioned that ...</td>\n",
       "      <td>positive</td>\n",
       "    </tr>\n",
       "    <tr>\n",
       "      <th>1</th>\n",
       "      <td>1</td>\n",
       "      <td>a wonderful little production. &lt;br /&gt;&lt;br /&gt;the...</td>\n",
       "      <td>positive</td>\n",
       "    </tr>\n",
       "    <tr>\n",
       "      <th>2</th>\n",
       "      <td>2</td>\n",
       "      <td>i thought this was a wonderful way to spend ti...</td>\n",
       "      <td>positive</td>\n",
       "    </tr>\n",
       "    <tr>\n",
       "      <th>3</th>\n",
       "      <td>3</td>\n",
       "      <td>basically there's a family where a little boy ...</td>\n",
       "      <td>negative</td>\n",
       "    </tr>\n",
       "    <tr>\n",
       "      <th>4</th>\n",
       "      <td>4</td>\n",
       "      <td>petter mattei's \"love in the time of money\" is...</td>\n",
       "      <td>positive</td>\n",
       "    </tr>\n",
       "    <tr>\n",
       "      <th>...</th>\n",
       "      <td>...</td>\n",
       "      <td>...</td>\n",
       "      <td>...</td>\n",
       "    </tr>\n",
       "    <tr>\n",
       "      <th>49995</th>\n",
       "      <td>49995</td>\n",
       "      <td>i thought this movie did a down right good job...</td>\n",
       "      <td>positive</td>\n",
       "    </tr>\n",
       "    <tr>\n",
       "      <th>49996</th>\n",
       "      <td>49996</td>\n",
       "      <td>bad plot, bad dialogue, bad acting, idiotic di...</td>\n",
       "      <td>negative</td>\n",
       "    </tr>\n",
       "    <tr>\n",
       "      <th>49997</th>\n",
       "      <td>49997</td>\n",
       "      <td>i am a catholic taught in parochial elementary...</td>\n",
       "      <td>negative</td>\n",
       "    </tr>\n",
       "    <tr>\n",
       "      <th>49998</th>\n",
       "      <td>49998</td>\n",
       "      <td>i'm going to have to disagree with the previou...</td>\n",
       "      <td>negative</td>\n",
       "    </tr>\n",
       "    <tr>\n",
       "      <th>49999</th>\n",
       "      <td>49999</td>\n",
       "      <td>no one expects the star trek movies to be high...</td>\n",
       "      <td>negative</td>\n",
       "    </tr>\n",
       "  </tbody>\n",
       "</table>\n",
       "<p>50000 rows × 3 columns</p>\n",
       "</div>"
      ],
      "text/plain": [
       "       Unnamed: 0                                             review sentiment\n",
       "0               0  one of the other reviewers has mentioned that ...  positive\n",
       "1               1  a wonderful little production. <br /><br />the...  positive\n",
       "2               2  i thought this was a wonderful way to spend ti...  positive\n",
       "3               3  basically there's a family where a little boy ...  negative\n",
       "4               4  petter mattei's \"love in the time of money\" is...  positive\n",
       "...           ...                                                ...       ...\n",
       "49995       49995  i thought this movie did a down right good job...  positive\n",
       "49996       49996  bad plot, bad dialogue, bad acting, idiotic di...  negative\n",
       "49997       49997  i am a catholic taught in parochial elementary...  negative\n",
       "49998       49998  i'm going to have to disagree with the previou...  negative\n",
       "49999       49999  no one expects the star trek movies to be high...  negative\n",
       "\n",
       "[50000 rows x 3 columns]"
      ]
     },
     "execution_count": 17,
     "metadata": {},
     "output_type": "execute_result"
    }
   ],
   "source": [
    "df"
   ]
  },
  {
   "cell_type": "markdown",
   "id": "2f651d8a",
   "metadata": {},
   "source": [
    "# Remove Html Tag"
   ]
  },
  {
   "cell_type": "code",
   "execution_count": 21,
   "id": "653e4a4d",
   "metadata": {},
   "outputs": [],
   "source": [
    "def remove_html_tag(text):\n",
    "    \n",
    "    pattren = re.compile(r\"<.*?>\")\n",
    "    return pattren.sub(r' ', text)"
   ]
  },
  {
   "cell_type": "code",
   "execution_count": 22,
   "id": "24894e86",
   "metadata": {},
   "outputs": [
    {
     "data": {
      "text/plain": [
       "'phil the alien is one of those quirky films where the humour is based around the oddness of everything rather than actual punchlines.<br /><br />at first it was very odd and pretty funny but as the movie progressed i didn\\'t find the jokes or oddness funny anymore.<br /><br />its a low budget film (thats never a problem in itself), there were some pretty interesting characters, but eventually i just lost interest.<br /><br />i imagine this film would appeal to a stoner who is currently partaking.<br /><br />for something similar but better try \"brother from another planet\"'"
      ]
     },
     "execution_count": 22,
     "metadata": {},
     "output_type": "execute_result"
    }
   ],
   "source": [
    "df['review'][10]"
   ]
  },
  {
   "cell_type": "code",
   "execution_count": 23,
   "id": "740af3f2",
   "metadata": {},
   "outputs": [],
   "source": [
    "df['review'] = df['review'].apply(remove_html_tag)"
   ]
  },
  {
   "cell_type": "code",
   "execution_count": 25,
   "id": "b6bca82c",
   "metadata": {},
   "outputs": [
    {
     "data": {
      "text/plain": [
       "'phil the alien is one of those quirky films where the humour is based around the oddness of everything rather than actual punchlines.  at first it was very odd and pretty funny but as the movie progressed i didn\\'t find the jokes or oddness funny anymore.  its a low budget film (thats never a problem in itself), there were some pretty interesting characters, but eventually i just lost interest.  i imagine this film would appeal to a stoner who is currently partaking.  for something similar but better try \"brother from another planet\"'"
      ]
     },
     "execution_count": 25,
     "metadata": {},
     "output_type": "execute_result"
    }
   ],
   "source": [
    "df['review'][10]"
   ]
  },
  {
   "cell_type": "code",
   "execution_count": 36,
   "id": "d472cf8f",
   "metadata": {},
   "outputs": [],
   "source": [
    "def remove_html_tag2(text):\n",
    "    \n",
    "    pattren = r\"<.*?>\"\n",
    "    \n",
    "    text = re.sub(pattern=pattren, repl=\" \", string=text)\n",
    "    \n",
    "    return text"
   ]
  },
  {
   "cell_type": "code",
   "execution_count": 37,
   "id": "75f7102c",
   "metadata": {},
   "outputs": [],
   "source": [
    "df['review'] = df['review'].apply(remove_html_tag2)"
   ]
  },
  {
   "cell_type": "code",
   "execution_count": 38,
   "id": "1f035cc9",
   "metadata": {},
   "outputs": [
    {
     "data": {
      "text/plain": [
       "0        One of the other reviewers has mentioned that ...\n",
       "1        A wonderful little production.   The filming t...\n",
       "2        I thought this was a wonderful way to spend ti...\n",
       "3        Basically there's a family where a little boy ...\n",
       "4        Petter Mattei's \"Love in the Time of Money\" is...\n",
       "                               ...                        \n",
       "49995    I thought this movie did a down right good job...\n",
       "49996    Bad plot, bad dialogue, bad acting, idiotic di...\n",
       "49997    I am a Catholic taught in parochial elementary...\n",
       "49998    I'm going to have to disagree with the previou...\n",
       "49999    No one expects the Star Trek movies to be high...\n",
       "Name: review, Length: 50000, dtype: object"
      ]
     },
     "execution_count": 38,
     "metadata": {},
     "output_type": "execute_result"
    }
   ],
   "source": [
    "df['review']"
   ]
  },
  {
   "cell_type": "markdown",
   "id": "c29d8b0b",
   "metadata": {},
   "source": [
    "# Urls Remove"
   ]
  },
  {
   "cell_type": "code",
   "execution_count": 45,
   "id": "86783dcf",
   "metadata": {},
   "outputs": [],
   "source": [
    "def remove_urls(text):\n",
    "    \n",
    "    pattern = re.compile(r'https?://\\S+|www.\\S+')\n",
    "    \n",
    "    return pattern.sub(r\" \", text)"
   ]
  },
  {
   "cell_type": "code",
   "execution_count": 50,
   "id": "406889a8",
   "metadata": {},
   "outputs": [],
   "source": [
    "text=\"\"\"https://dataaspirant.com/nlp-text-preprocessing-techniques-implementation-python/#t-1600077497351 Hello NLP\n",
    "\"\"\"\n",
    "\n",
    "text2 = \"\"\"\n",
    "This is an example text for URLs like http://google.com & https://www.facebook.com/ etc.\n",
    "\n",
    "\"\"\"\n"
   ]
  },
  {
   "cell_type": "code",
   "execution_count": 51,
   "id": "cd7bea49",
   "metadata": {},
   "outputs": [],
   "source": [
    "result = remove_urls(text2)"
   ]
  },
  {
   "cell_type": "code",
   "execution_count": 52,
   "id": "af3e4588",
   "metadata": {},
   "outputs": [
    {
     "data": {
      "text/plain": [
       "'\\nThis is an example text for URLs like   &   etc.\\n\\n'"
      ]
     },
     "execution_count": 52,
     "metadata": {},
     "output_type": "execute_result"
    }
   ],
   "source": [
    "result"
   ]
  },
  {
   "cell_type": "code",
   "execution_count": 53,
   "id": "007cda29",
   "metadata": {},
   "outputs": [],
   "source": [
    "def remove_urls2(text):\n",
    "    pattern = r\"https?://\\S+|www.\\S+\"\n",
    "    \n",
    "    text = re.sub(pattern = pattern, repl=\" \", string=text)\n",
    "    \n",
    "    return text"
   ]
  },
  {
   "cell_type": "code",
   "execution_count": 56,
   "id": "11a1d97a",
   "metadata": {},
   "outputs": [],
   "source": [
    "text3 = \"\"\"\n",
    "https://www.cricbuzz.com/ Hello Cricbuzz\n",
    "\"\"\""
   ]
  },
  {
   "cell_type": "code",
   "execution_count": 57,
   "id": "04e1a979",
   "metadata": {},
   "outputs": [
    {
     "data": {
      "text/plain": [
       "'\\n  Hello Cricbuzz\\n'"
      ]
     },
     "execution_count": 57,
     "metadata": {},
     "output_type": "execute_result"
    }
   ],
   "source": [
    "remove_urls2(text3)"
   ]
  },
  {
   "cell_type": "code",
   "execution_count": 58,
   "id": "5e0b6dfd",
   "metadata": {},
   "outputs": [
    {
     "data": {
      "text/plain": [
       "1644941376.268588"
      ]
     },
     "execution_count": 58,
     "metadata": {},
     "output_type": "execute_result"
    }
   ],
   "source": [
    "from string import punctuation\n",
    "import time\n",
    "\n",
    "time.time()"
   ]
  },
  {
   "cell_type": "code",
   "execution_count": 59,
   "id": "b335f0bd",
   "metadata": {},
   "outputs": [],
   "source": [
    "punc = punctuation"
   ]
  },
  {
   "cell_type": "code",
   "execution_count": 60,
   "id": "2d4c1aa5",
   "metadata": {},
   "outputs": [
    {
     "data": {
      "text/plain": [
       "'!\"#$%&\\'()*+,-./:;<=>?@[\\\\]^_`{|}~'"
      ]
     },
     "execution_count": 60,
     "metadata": {},
     "output_type": "execute_result"
    }
   ],
   "source": [
    "punc"
   ]
  },
  {
   "cell_type": "code",
   "execution_count": 61,
   "id": "6b59cce8",
   "metadata": {},
   "outputs": [],
   "source": [
    "def remove_punc(text):\n",
    "    \n",
    "    for char in punc:\n",
    "        text = text.replace(char, '')\n",
    "    \n",
    "    return text\n",
    "    "
   ]
  },
  {
   "cell_type": "code",
   "execution_count": 77,
   "id": "60753c08",
   "metadata": {},
   "outputs": [],
   "source": [
    "text4 = \"\"\"\n",
    "this jhj is an example text for punctuations like .?/ @ test*\n",
    "\"\"\""
   ]
  },
  {
   "cell_type": "code",
   "execution_count": 74,
   "id": "f0f8b422",
   "metadata": {},
   "outputs": [],
   "source": [
    "result = remove_punc(text4)"
   ]
  },
  {
   "cell_type": "code",
   "execution_count": 75,
   "id": "c0d724ae",
   "metadata": {},
   "outputs": [
    {
     "data": {
      "text/plain": [
       "'\\nthis is an example text for punctuations like   test\\n'"
      ]
     },
     "execution_count": 75,
     "metadata": {},
     "output_type": "execute_result"
    }
   ],
   "source": [
    "result"
   ]
  },
  {
   "cell_type": "code",
   "execution_count": 76,
   "id": "3b70a9eb",
   "metadata": {},
   "outputs": [],
   "source": [
    "def remove_punc2(text):\n",
    "    return text.translate(str.maketrans('','', punc))"
   ]
  },
  {
   "cell_type": "code",
   "execution_count": 78,
   "id": "008ca58d",
   "metadata": {},
   "outputs": [
    {
     "data": {
      "text/plain": [
       "'\\nthis jhj is an example text for punctuations like   test\\n'"
      ]
     },
     "execution_count": 78,
     "metadata": {},
     "output_type": "execute_result"
    }
   ],
   "source": [
    "remove_punc2(text4)"
   ]
  },
  {
   "cell_type": "code",
   "execution_count": 79,
   "id": "0df1d498",
   "metadata": {},
   "outputs": [],
   "source": [
    "df2 =  pd.read_csv('train_tweet.csv')"
   ]
  },
  {
   "cell_type": "code",
   "execution_count": 81,
   "id": "bdf5b954",
   "metadata": {},
   "outputs": [
    {
     "data": {
      "text/html": [
       "<div>\n",
       "<style scoped>\n",
       "    .dataframe tbody tr th:only-of-type {\n",
       "        vertical-align: middle;\n",
       "    }\n",
       "\n",
       "    .dataframe tbody tr th {\n",
       "        vertical-align: top;\n",
       "    }\n",
       "\n",
       "    .dataframe thead th {\n",
       "        text-align: right;\n",
       "    }\n",
       "</style>\n",
       "<table border=\"1\" class=\"dataframe\">\n",
       "  <thead>\n",
       "    <tr style=\"text-align: right;\">\n",
       "      <th></th>\n",
       "      <th>id</th>\n",
       "      <th>label</th>\n",
       "      <th>tweet</th>\n",
       "    </tr>\n",
       "  </thead>\n",
       "  <tbody>\n",
       "    <tr>\n",
       "      <th>24243</th>\n",
       "      <td>24244</td>\n",
       "      <td>0</td>\n",
       "      <td>i am thankful for palm trees.#thankful #positi...</td>\n",
       "    </tr>\n",
       "    <tr>\n",
       "      <th>24671</th>\n",
       "      <td>24672</td>\n",
       "      <td>0</td>\n",
       "      <td>thank you so much to all my 400 followers. lov...</td>\n",
       "    </tr>\n",
       "    <tr>\n",
       "      <th>3217</th>\n",
       "      <td>3218</td>\n",
       "      <td>0</td>\n",
       "      <td>have to postpone mirror of the witch. bc next ...</td>\n",
       "    </tr>\n",
       "    <tr>\n",
       "      <th>27918</th>\n",
       "      <td>27919</td>\n",
       "      <td>0</td>\n",
       "      <td>bihday balayya..  you r legend..ðððª...</td>\n",
       "    </tr>\n",
       "    <tr>\n",
       "      <th>8709</th>\n",
       "      <td>8710</td>\n",
       "      <td>0</td>\n",
       "      <td>@user spelling's kinda difficult when you're o...</td>\n",
       "    </tr>\n",
       "  </tbody>\n",
       "</table>\n",
       "</div>"
      ],
      "text/plain": [
       "          id  label                                              tweet\n",
       "24243  24244      0  i am thankful for palm trees.#thankful #positi...\n",
       "24671  24672      0  thank you so much to all my 400 followers. lov...\n",
       "3217    3218      0  have to postpone mirror of the witch. bc next ...\n",
       "27918  27919      0    bihday balayya..  you r legend..ðððª...\n",
       "8709    8710      0  @user spelling's kinda difficult when you're o..."
      ]
     },
     "execution_count": 81,
     "metadata": {},
     "output_type": "execute_result"
    }
   ],
   "source": [
    "df2.sample(5)"
   ]
  },
  {
   "cell_type": "code",
   "execution_count": 83,
   "id": "9169fc43",
   "metadata": {},
   "outputs": [],
   "source": [
    "df2['tweet'] = df2['tweet'].apply(remove_punc2)"
   ]
  },
  {
   "cell_type": "code",
   "execution_count": 84,
   "id": "51c5c72d",
   "metadata": {},
   "outputs": [
    {
     "data": {
      "text/plain": [
       "0         user when a father is dysfunctional and is so...\n",
       "1        user user thanks for lyft credit i cant use ca...\n",
       "2                                      bihday your majesty\n",
       "3        model   i love u take with u all the time in u...\n",
       "4                     factsguide society now    motivation\n",
       "                               ...                        \n",
       "31957    ate user isz that youuuðððððð...\n",
       "31958      to see nina turner on the airwaves trying to...\n",
       "31959    listening to sad songs on a monday morning otw...\n",
       "31960    user sikh temple vandalised in in calgary wso ...\n",
       "31961                      thank you user for you follow  \n",
       "Name: tweet, Length: 31962, dtype: object"
      ]
     },
     "execution_count": 84,
     "metadata": {},
     "output_type": "execute_result"
    }
   ],
   "source": [
    "df2['tweet']"
   ]
  },
  {
   "cell_type": "code",
   "execution_count": 94,
   "id": "db89633c",
   "metadata": {},
   "outputs": [],
   "source": []
  }
 ],
 "metadata": {
  "kernelspec": {
   "display_name": "Python 3 (ipykernel)",
   "language": "python",
   "name": "python3"
  },
  "language_info": {
   "codemirror_mode": {
    "name": "ipython",
    "version": 3
   },
   "file_extension": ".py",
   "mimetype": "text/x-python",
   "name": "python",
   "nbconvert_exporter": "python",
   "pygments_lexer": "ipython3",
   "version": "3.8.10"
  }
 },
 "nbformat": 4,
 "nbformat_minor": 5
}
